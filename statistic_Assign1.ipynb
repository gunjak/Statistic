{
 "cells": [
  {
   "cell_type": "markdown",
   "metadata": {},
   "source": [
    "1. Harvard Law School courses often have assigned seating to facilitate the “Socratic method.”\n",
    "Suppose that there are 100 first year Harvard Law students, and each takes two courses:\n",
    "Torts and Contracts. Both are held in the same lecture hall (which has 100 seats), and the\n",
    "seating is uniformly random and independent for the two courses.\n",
    "(a) Find the probability that no one has the same seat for both courses (exactly; you should\n",
    "leave your answer as a sum).\n",
    "(b) Find a simple but accurate approximation to the probability that no one has the same\n",
    "seat for both courses.\n",
    "(c) Find a simple but accurate approximation to the probability that at least two students\n",
    "have the same seat for both courses."
   ]
  },
  {
   "cell_type": "markdown",
   "metadata": {},
   "source": [
    "<img src=\"IMG_20220501_084703.jpg\"/>"
   ]
  },
  {
   "cell_type": "markdown",
   "metadata": {},
   "source": [
    "<img src=\"IMG_20220430_225620.jpg\"/>"
   ]
  },
  {
   "cell_type": "code",
   "execution_count": null,
   "metadata": {},
   "outputs": [],
   "source": []
  }
 ],
 "metadata": {
  "kernelspec": {
   "display_name": "Python 3 (ipykernel)",
   "language": "python",
   "name": "python3"
  },
  "language_info": {
   "codemirror_mode": {
    "name": "ipython",
    "version": 3
   },
   "file_extension": ".py",
   "mimetype": "text/x-python",
   "name": "python",
   "nbconvert_exporter": "python",
   "pygments_lexer": "ipython3",
   "version": "3.7.6"
  }
 },
 "nbformat": 4,
 "nbformat_minor": 4
}
